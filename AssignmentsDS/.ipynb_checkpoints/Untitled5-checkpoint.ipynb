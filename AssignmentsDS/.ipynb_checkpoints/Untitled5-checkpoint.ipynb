{
 "cells": [
  {
   "cell_type": "code",
   "execution_count": 1,
   "id": "316abd5f",
   "metadata": {},
   "outputs": [
    {
     "name": "stdout",
     "output_type": "stream",
     "text": [
      "Current date and time : \n",
      "2021-12-31 18:48:57\n"
     ]
    }
   ],
   "source": [
    "import datetime\n",
    "now = datetime.datetime.now()\n",
    "print (\"Current date and time : \")\n",
    "print (now.strftime(\"%Y-%m-%d %H:%M:%S\"))"
   ]
  },
  {
   "cell_type": "code",
   "execution_count": 3,
   "id": "7fd54f83",
   "metadata": {},
   "outputs": [
    {
     "name": "stdout",
     "output_type": "stream",
     "text": [
      "Input your first name : Sadia\n",
      "Input your last name : Rafiq\n",
      "Rafiq Sadia\n"
     ]
    }
   ],
   "source": [
    "fname = input(\"Input your first name : \")\n",
    "lname = input(\"Input your last name : \")\n",
    "print ( lname + \" \" + fname )"
   ]
  },
  {
   "cell_type": "code",
   "execution_count": 4,
   "id": "c2990dec",
   "metadata": {},
   "outputs": [
    {
     "name": "stdout",
     "output_type": "stream",
     "text": [
      "first name : sadia\n",
      "last name : rafiq\n",
      "Rafiq Sadia\n"
     ]
    },
    {
     "ename": "TypeError",
     "evalue": "'NoneType' object is not subscriptable",
     "output_type": "error",
     "traceback": [
      "\u001b[1;31m---------------------------------------------------------------------------\u001b[0m",
      "\u001b[1;31mTypeError\u001b[0m                                 Traceback (most recent call last)",
      "\u001b[1;32m~\\AppData\\Local\\Temp/ipykernel_5568/3515076632.py\u001b[0m in \u001b[0;36m<module>\u001b[1;34m\u001b[0m\n\u001b[0;32m      1\u001b[0m \u001b[0mfn\u001b[0m \u001b[1;33m=\u001b[0m \u001b[0minput\u001b[0m\u001b[1;33m(\u001b[0m\u001b[1;34m\"first name : \"\u001b[0m\u001b[1;33m)\u001b[0m\u001b[1;33m\u001b[0m\u001b[1;33m\u001b[0m\u001b[0m\n\u001b[0;32m      2\u001b[0m \u001b[0mln\u001b[0m \u001b[1;33m=\u001b[0m \u001b[0minput\u001b[0m\u001b[1;33m(\u001b[0m\u001b[1;34m\"last name : \"\u001b[0m\u001b[1;33m)\u001b[0m\u001b[1;33m\u001b[0m\u001b[1;33m\u001b[0m\u001b[0m\n\u001b[1;32m----> 3\u001b[1;33m \u001b[0mprint\u001b[0m \u001b[1;33m(\u001b[0m\u001b[0mlname\u001b[0m \u001b[1;33m+\u001b[0m \u001b[1;34m\" \"\u001b[0m \u001b[1;33m+\u001b[0m \u001b[0mfname\u001b[0m\u001b[1;33m)\u001b[0m \u001b[1;33m[\u001b[0m\u001b[1;33m:\u001b[0m\u001b[1;33m:\u001b[0m\u001b[1;33m-\u001b[0m\u001b[1;36m1\u001b[0m\u001b[1;33m]\u001b[0m\u001b[1;33m\u001b[0m\u001b[1;33m\u001b[0m\u001b[0m\n\u001b[0m",
      "\u001b[1;31mTypeError\u001b[0m: 'NoneType' object is not subscriptable"
     ]
    }
   ],
   "source": [
    "fn = input(\"first name : \")\n",
    "ln = input(\"last name : \")\n",
    "print (lname + \" \" + fname) [::-1]"
   ]
  },
  {
   "cell_type": "code",
   "execution_count": 5,
   "id": "dc69c907",
   "metadata": {},
   "outputs": [
    {
     "name": "stdout",
     "output_type": "stream",
     "text": [
      "f name : sadia\n",
      "l name : rafiq\n",
      "qifar aidas\n"
     ]
    }
   ],
   "source": [
    "fn = input(\"f name : \") [::-1]\n",
    "ln = input(\"l name : \") [::-1]\n",
    "print (ln + \" \" + fn)"
   ]
  },
  {
   "cell_type": "code",
   "execution_count": 6,
   "id": "339c5d80",
   "metadata": {},
   "outputs": [
    {
     "name": "stdout",
     "output_type": "stream",
     "text": [
      "Enter First number  : 5\n",
      "Enter Second number : 6\n",
      "56\n"
     ]
    }
   ],
   "source": [
    "num1 = input(\"Enter First number  : \")\n",
    "num2 = input(\"Enter Second number : \")\n",
    "add = num1 + num2\n",
    "print(add)"
   ]
  },
  {
   "cell_type": "code",
   "execution_count": 7,
   "id": "fb8bbc15",
   "metadata": {},
   "outputs": [
    {
     "name": "stdout",
     "output_type": "stream",
     "text": [
      "Enter 1st no : 6\n",
      "Enter 2nd no : 6\n",
      "66\n"
     ]
    }
   ],
   "source": [
    "n1 = input(\"Enter 1st no : \")\n",
    "n2 = input(\"Enter 2nd no : \")\n",
    "add = n1+n2;\n",
    "print(add)"
   ]
  },
  {
   "cell_type": "code",
   "execution_count": null,
   "id": "abd3f50f",
   "metadata": {},
   "outputs": [],
   "source": [
    "num1 = int(input(\"Enter 1st num : \"))\n",
    "num2 = int(input(\"Enter 2nd num : \"))\n",
    "add = num1 + num1;\n",
    "print(\"Sum : \", add)"
   ]
  },
  {
   "cell_type": "code",
   "execution_count": null,
   "id": "a2774902",
   "metadata": {},
   "outputs": [],
   "source": []
  },
  {
   "cell_type": "code",
   "execution_count": null,
   "id": "9955029d",
   "metadata": {},
   "outputs": [],
   "source": [
    "num1 = int(input(\"Enter 1st num : \"))\n",
    "num2 = int(input(\"Enter 2nd num : \"))\n",
    "add = num1 + num2;\n",
    "print(\"Sum : \", add)"
   ]
  },
  {
   "cell_type": "code",
   "execution_count": null,
   "id": "6faf33e3",
   "metadata": {},
   "outputs": [],
   "source": [
    "from math import pi\n",
    "r = float(input(\"Input radius of a circle : \"))\n",
    "print (\"The area of a circle with radius \" + str(r) + \"is : \" + str(pi * r**2))"
   ]
  },
  {
   "cell_type": "code",
   "execution_count": 1,
   "id": "c8340981",
   "metadata": {},
   "outputs": [
    {
     "name": "stdout",
     "output_type": "stream",
     "text": [
      "3.6363636363636367\n"
     ]
    }
   ],
   "source": [
    "a = ((12-4)/(2+9)*5);\n",
    "print(a);"
   ]
  },
  {
   "cell_type": "code",
   "execution_count": 2,
   "id": "be7d1fa1",
   "metadata": {},
   "outputs": [
    {
     "name": "stdout",
     "output_type": "stream",
     "text": [
      "            Twinkle, twinkle, little star,\n",
      "                      How I wonder what you are!\n",
      "                               Up above the what so high,\n",
      "                               Like a diamond in the sky.\n",
      "            Twinkle, twinkle, little star,\n",
      "            How I wonder what you are!\n"
     ]
    }
   ],
   "source": [
    "print('            '\"Twinkle, twinkle, little star,\\n\" \n",
    "      '                      '\"How I wonder what you are!\\n\"\n",
    "      '                               '\"Up above the what so high,\\n\"\n",
    "      '                               '\"Like a diamond in the sky.\\n\"\n",
    "      '            '\"Twinkle, twinkle, little star,\\n\"                         \n",
    "      '            '\"How I wonder what you are!\" )"
   ]
  },
  {
   "cell_type": "code",
   "execution_count": null,
   "id": "2f2d918a",
   "metadata": {},
   "outputs": [],
   "source": []
  }
 ],
 "metadata": {
  "kernelspec": {
   "display_name": "Python 3 (ipykernel)",
   "language": "python",
   "name": "python3"
  },
  "language_info": {
   "codemirror_mode": {
    "name": "ipython",
    "version": 3
   },
   "file_extension": ".py",
   "mimetype": "text/x-python",
   "name": "python",
   "nbconvert_exporter": "python",
   "pygments_lexer": "ipython3",
   "version": "3.9.7"
  }
 },
 "nbformat": 4,
 "nbformat_minor": 5
}
