{
 "cells": [
  {
   "cell_type": "code",
   "execution_count": 1,
   "id": "f0f8cac6",
   "metadata": {},
   "outputs": [
    {
     "name": "stdout",
     "output_type": "stream",
     "text": [
      "               Twinkle, twinkle, little star,\n",
      "                        How I wonder what you are!\n",
      "                               Up above the what so high,\n",
      "                               Like a diamond in the sky.\n",
      "               Twinkle, twinkle, little star,\n",
      "               How I wonder what you are!\n"
     ]
    }
   ],
   "source": [
    "print(\"               Twinkle, twinkle, little star,\\n\" \n",
    "      \"                        How I wonder what you are!\\n\"\n",
    "      \"                               Up above the what so high,\\n\"\n",
    "      \"                               Like a diamond in the sky.\\n\"\n",
    "      \"               Twinkle, twinkle, little star,\\n\"                         \n",
    "      \"               How I wonder what you are!\" )"
   ]
  },
  {
   "cell_type": "code",
   "execution_count": 2,
   "id": "dccc7348",
   "metadata": {},
   "outputs": [
    {
     "name": "stdout",
     "output_type": "stream",
     "text": [
      "Python Version\n",
      "3.9.7 (default, Sep 16 2021, 16:59:28) [MSC v.1916 64 bit (AMD64)]\n"
     ]
    }
   ],
   "source": [
    "import sys\n",
    "print(\"Python Version\")\n",
    "print(sys.version)"
   ]
  },
  {
   "cell_type": "code",
   "execution_count": 3,
   "id": "8ed51f7b",
   "metadata": {},
   "outputs": [
    {
     "name": "stdout",
     "output_type": "stream",
     "text": [
      "Current date and time : \n",
      "2021-12-31  19:37:50\n"
     ]
    }
   ],
   "source": [
    "import datetime\n",
    "now = datetime.datetime.now()\n",
    "print(\"Current date and time : \")\n",
    "print (now.strftime(\"%Y-%m-%d  %H:%M:%S\"))"
   ]
  },
  {
   "cell_type": "code",
   "execution_count": 4,
   "id": "479e7ba7",
   "metadata": {},
   "outputs": [
    {
     "name": "stdout",
     "output_type": "stream",
     "text": [
      "Enter radius of a circle : 3\n",
      "Area of a circle with radius 3.0 is : 28.274333882308138\n"
     ]
    }
   ],
   "source": [
    "from math import pi\n",
    "r = float(input(\"Enter radius of a circle : \"))\n",
    "print (\"Area of a circle with radius \" + str(r) + \" is : \" + str(pi * r**2))"
   ]
  },
  {
   "cell_type": "code",
   "execution_count": 5,
   "id": "d9b09ec1",
   "metadata": {},
   "outputs": [
    {
     "name": "stdout",
     "output_type": "stream",
     "text": [
      "First name : Sadyah\n",
      "Last name : Rafiq\n",
      "Rafiq Sadyah\n"
     ]
    }
   ],
   "source": [
    "fname = input(\"First name : \")\n",
    "lname = input(\"Last name : \")\n",
    "print ( lname + \" \" + fname )"
   ]
  },
  {
   "cell_type": "code",
   "execution_count": 6,
   "id": "13c44eaf",
   "metadata": {},
   "outputs": [
    {
     "name": "stdout",
     "output_type": "stream",
     "text": [
      "First name : Sadyah\n",
      "Last name : Rafiq\n",
      "qifaR haydaS\n"
     ]
    }
   ],
   "source": [
    "fn = input(\"First name : \") [::-1]\n",
    "ln = input(\"Last name : \") [::-1]\n",
    "print ( ln + \" \" + fn )"
   ]
  },
  {
   "cell_type": "code",
   "execution_count": 7,
   "id": "dc25299f",
   "metadata": {},
   "outputs": [
    {
     "name": "stdout",
     "output_type": "stream",
     "text": [
      "Enter 1st input : 4\n",
      "Enter 2nd input : 5\n",
      "Sum :  9.0\n"
     ]
    }
   ],
   "source": [
    "n1 = float(input(\"Enter 1st input : \"))\n",
    "n2 = float(input(\"Enter 2nd input : \"))\n",
    "add = n1 + n2;\n",
    "print(\"Sum : \", add)"
   ]
  },
  {
   "cell_type": "code",
   "execution_count": null,
   "id": "ed204498",
   "metadata": {},
   "outputs": [],
   "source": []
  }
 ],
 "metadata": {
  "kernelspec": {
   "display_name": "Python 3 (ipykernel)",
   "language": "python",
   "name": "python3"
  },
  "language_info": {
   "codemirror_mode": {
    "name": "ipython",
    "version": 3
   },
   "file_extension": ".py",
   "mimetype": "text/x-python",
   "name": "python",
   "nbconvert_exporter": "python",
   "pygments_lexer": "ipython3",
   "version": "3.9.7"
  }
 },
 "nbformat": 4,
 "nbformat_minor": 5
}
