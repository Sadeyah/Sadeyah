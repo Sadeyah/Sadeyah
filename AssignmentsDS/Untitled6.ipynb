{
 "cells": [
  {
   "cell_type": "code",
   "execution_count": 1,
   "id": "cb4ebde7",
   "metadata": {},
   "outputs": [
    {
     "name": "stdout",
     "output_type": "stream",
     "text": [
      "Enter 1st num : 5\n",
      "Enter 2nd num : 6\n",
      "Sum :  11\n"
     ]
    }
   ],
   "source": [
    "num1 = int(input(\"Enter 1st num : \"))\n",
    "num2 = int(input(\"Enter 2nd num : \"))\n",
    "add = num1 + num2;\n",
    "print(\"Sum : \", add)"
   ]
  },
  {
   "cell_type": "code",
   "execution_count": 2,
   "id": "7dac8f25",
   "metadata": {},
   "outputs": [
    {
     "name": "stdout",
     "output_type": "stream",
     "text": [
      "Input radius of a circle : 3\n",
      "The area of a circle with radius 3.0is : 28.274333882308138\n"
     ]
    }
   ],
   "source": [
    "from math import pi\n",
    "r = float(input(\"Input radius of a circle : \"))\n",
    "print (\"The area of a circle with radius \" + str(r) + \"is : \" + str(pi * r**2))"
   ]
  },
  {
   "cell_type": "markdown",
   "id": "6bceffbe",
   "metadata": {},
   "source": [
    "\n"
   ]
  },
  {
   "cell_type": "code",
   "execution_count": 3,
   "id": "b0abf1f7",
   "metadata": {},
   "outputs": [
    {
     "ename": "SyntaxError",
     "evalue": "invalid syntax (Temp/ipykernel_5104/3463825299.py, line 4)",
     "output_type": "error",
     "traceback": [
      "\u001b[1;36m  File \u001b[1;32m\"C:\\Users\\HP\\AppData\\Local\\Temp/ipykernel_5104/3463825299.py\"\u001b[1;36m, line \u001b[1;32m4\u001b[0m\n\u001b[1;33m    print(\"Sum : \" add)\u001b[0m\n\u001b[1;37m                   ^\u001b[0m\n\u001b[1;31mSyntaxError\u001b[0m\u001b[1;31m:\u001b[0m invalid syntax\n"
     ]
    }
   ],
   "source": [
    "n1 = float(input(\"Enter 1st num : \"))\n",
    "n2 = float(input(\"Enter 2nd num : \"))\n",
    "add = n1+n2;\n",
    "print(\"Sum : \" add)"
   ]
  },
  {
   "cell_type": "code",
   "execution_count": 4,
   "id": "3d74bafd",
   "metadata": {},
   "outputs": [
    {
     "name": "stdout",
     "output_type": "stream",
     "text": [
      "Enter 1st num : 3.6\n",
      "Enter 2nd num : 2.6\n"
     ]
    },
    {
     "ename": "TypeError",
     "evalue": "can only concatenate str (not \"float\") to str",
     "output_type": "error",
     "traceback": [
      "\u001b[1;31m---------------------------------------------------------------------------\u001b[0m",
      "\u001b[1;31mTypeError\u001b[0m                                 Traceback (most recent call last)",
      "\u001b[1;32m~\\AppData\\Local\\Temp/ipykernel_5104/2455382186.py\u001b[0m in \u001b[0;36m<module>\u001b[1;34m\u001b[0m\n\u001b[0;32m      2\u001b[0m \u001b[0mn2\u001b[0m \u001b[1;33m=\u001b[0m \u001b[0mfloat\u001b[0m\u001b[1;33m(\u001b[0m\u001b[0minput\u001b[0m\u001b[1;33m(\u001b[0m\u001b[1;34m\"Enter 2nd num : \"\u001b[0m\u001b[1;33m)\u001b[0m\u001b[1;33m)\u001b[0m\u001b[1;33m\u001b[0m\u001b[1;33m\u001b[0m\u001b[0m\n\u001b[0;32m      3\u001b[0m \u001b[0madd\u001b[0m \u001b[1;33m=\u001b[0m \u001b[0mn1\u001b[0m\u001b[1;33m+\u001b[0m\u001b[0mn2\u001b[0m\u001b[1;33m;\u001b[0m\u001b[1;33m\u001b[0m\u001b[1;33m\u001b[0m\u001b[0m\n\u001b[1;32m----> 4\u001b[1;33m \u001b[0mprint\u001b[0m\u001b[1;33m(\u001b[0m\u001b[1;34m\"Sum : \"\u001b[0m \u001b[1;33m+\u001b[0m \u001b[0madd\u001b[0m\u001b[1;33m)\u001b[0m\u001b[1;33m\u001b[0m\u001b[1;33m\u001b[0m\u001b[0m\n\u001b[0m",
      "\u001b[1;31mTypeError\u001b[0m: can only concatenate str (not \"float\") to str"
     ]
    }
   ],
   "source": [
    "n1 = float(input(\"Enter 1st num : \"))\n",
    "n2 = float(input(\"Enter 2nd num : \"))\n",
    "add = n1+n2;\n",
    "print(\"Sum : \" + add)"
   ]
  },
  {
   "cell_type": "code",
   "execution_count": 5,
   "id": "d8cc59f7",
   "metadata": {},
   "outputs": [
    {
     "name": "stdout",
     "output_type": "stream",
     "text": [
      "Enter 1st num : 3.5\n",
      "Enter 2nd num : 2.5\n",
      "Sum :  6.0\n"
     ]
    }
   ],
   "source": [
    "n1 = float(input(\"Enter 1st num : \"))\n",
    "n2 = float(input(\"Enter 2nd num : \"))\n",
    "add = n1+n2;\n",
    "print(\"Sum : \", add)"
   ]
  },
  {
   "cell_type": "code",
   "execution_count": 6,
   "id": "4ca86cc8",
   "metadata": {},
   "outputs": [
    {
     "name": "stdout",
     "output_type": "stream",
     "text": [
      "Enter 1st num : 2\n",
      "Enter 2nd num : 3\n",
      "Sum :  5.0\n"
     ]
    }
   ],
   "source": [
    "n1 = float(input(\"Enter 1st num : \"))\n",
    "n2 = float(input(\"Enter 2nd num : \"))\n",
    "add = n1+n2;\n",
    "print(\"Sum : \", add)"
   ]
  },
  {
   "cell_type": "code",
   "execution_count": 1,
   "id": "6c993780",
   "metadata": {},
   "outputs": [
    {
     "name": "stdout",
     "output_type": "stream",
     "text": [
      "Rafiq Saadia\n"
     ]
    }
   ],
   "source": [
    "d = ' '\"Saadia\";\n",
    "a = \"Rafiq\";\n",
    "u = a + d;\n",
    "print(u);"
   ]
  },
  {
   "cell_type": "code",
   "execution_count": 2,
   "id": "2de976d3",
   "metadata": {},
   "outputs": [
    {
     "name": "stdout",
     "output_type": "stream",
     "text": [
      "Python Version\n",
      "3.9.7 (default, Sep 16 2021, 16:59:28) [MSC v.1916 64 bit (AMD64)]\n"
     ]
    }
   ],
   "source": [
    "import sys\n",
    "print(\"Python Version\")\n",
    "print(sys.version)"
   ]
  },
  {
   "cell_type": "code",
   "execution_count": 4,
   "id": "d3240fc9",
   "metadata": {},
   "outputs": [
    {
     "name": "stdout",
     "output_type": "stream",
     "text": [
      "Current date and time : \n",
      "2022-01-20 23:16:52\n"
     ]
    }
   ],
   "source": [
    "import datetime\n",
    "now = datetime.datetime.now()\n",
    "print (\"Current date and time : \")\n",
    "print (now.strftime(\"%Y-%m-%d %H:%M:%S\"))"
   ]
  },
  {
   "cell_type": "code",
   "execution_count": null,
   "id": "ca330d20",
   "metadata": {},
   "outputs": [],
   "source": []
  }
 ],
 "metadata": {
  "kernelspec": {
   "display_name": "Python 3 (ipykernel)",
   "language": "python",
   "name": "python3"
  },
  "language_info": {
   "codemirror_mode": {
    "name": "ipython",
    "version": 3
   },
   "file_extension": ".py",
   "mimetype": "text/x-python",
   "name": "python",
   "nbconvert_exporter": "python",
   "pygments_lexer": "ipython3",
   "version": "3.9.7"
  }
 },
 "nbformat": 4,
 "nbformat_minor": 5
}
